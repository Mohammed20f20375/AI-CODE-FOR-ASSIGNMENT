{
  "cells": [
    {
      "cell_type": "markdown",
      "metadata": {
        "id": "view-in-github",
        "colab_type": "text"
      },
      "source": [
        "<a href=\"https://colab.research.google.com/github/Mohammed20f20375/AI-CODE-FOR-ASSIGNMENT/blob/main/Copy_of_dogs_cats_classification_2.ipynb\" target=\"_parent\"><img src=\"https://colab.research.google.com/assets/colab-badge.svg\" alt=\"Open In Colab\"/></a>"
      ]
    },
    {
      "cell_type": "code",
      "execution_count": 8,
      "metadata": {
        "colab": {
          "base_uri": "https://localhost:8080/"
        },
        "id": "XwS3JKt-U1CE",
        "outputId": "5d63991d-abd3-4805-ba3d-d10332b5145c"
      },
      "outputs": [
        {
          "output_type": "stream",
          "name": "stdout",
          "text": [
            "Mounted at /content/drive\n"
          ]
        }
      ],
      "source": [
        "#My dataset is available in googledrive; so I am accessing my drive from colab\n",
        "from google.colab import drive\n",
        "drive.mount('/content/drive', force_remount=True)\n",
        "#Once this is executed, you will see your drive appearing on the left hand side"
      ]
    },
    {
      "cell_type": "code",
      "source": [
        "from google.colab import drive\n",
        "drive.mount('/content/drive')"
      ],
      "metadata": {
        "colab": {
          "base_uri": "https://localhost:8080/"
        },
        "id": "hfM2FghBRh0L",
        "outputId": "e5946793-b4cf-4f7c-fd6f-e08523cc8199"
      },
      "execution_count": 9,
      "outputs": [
        {
          "output_type": "stream",
          "name": "stdout",
          "text": [
            "Drive already mounted at /content/drive; to attempt to forcibly remount, call drive.mount(\"/content/drive\", force_remount=True).\n"
          ]
        }
      ]
    },
    {
      "cell_type": "code",
      "execution_count": 21,
      "metadata": {
        "id": "SMPHESYVVnzp"
      },
      "outputs": [],
      "source": [
        "# Define paths to the dataset\n",
        "train_dir = '/content/drive/MyDrive/x-ray classification/Train'  # Update with your actual path\n",
        "test_dir = '/content/drive/MyDrive/x-ray classification/Test'   # Update with your actual path"
      ]
    },
    {
      "cell_type": "code",
      "execution_count": 22,
      "metadata": {
        "colab": {
          "base_uri": "https://localhost:8080/"
        },
        "id": "wwfZiLtU6Ruq",
        "outputId": "e3e40d65-ed75-4197-9670-ea7f6d2110b7"
      },
      "outputs": [
        {
          "output_type": "stream",
          "name": "stdout",
          "text": [
            "551\n",
            "565\n",
            "621\n",
            "565\n"
          ]
        }
      ],
      "source": [
        "import os\n",
        "print(len(os.listdir('/content/drive/MyDrive/x-ray classification/Test/non x-ray')))\n",
        "print(len(os.listdir('/content/drive/MyDrive/x-ray classification/Test/x-ray')))\n",
        "print(len(os.listdir('/content/drive/MyDrive/x-ray classification/Train/non x-ray')))\n",
        "print(len(os.listdir('/content/drive/MyDrive/x-ray classification/Train/x-ray')))\n"
      ]
    },
    {
      "cell_type": "code",
      "execution_count": 27,
      "metadata": {
        "colab": {
          "base_uri": "https://localhost:8080/"
        },
        "id": "kf8li3JNUJR1",
        "outputId": "08ee2269-2bc0-40df-cf76-79da51f40a88"
      },
      "outputs": [
        {
          "output_type": "stream",
          "name": "stdout",
          "text": [
            "Found 949 images belonging to 2 classes.\n",
            "Found 236 images belonging to 2 classes.\n"
          ]
        }
      ],
      "source": [
        "import tensorflow as tf\n",
        "from tensorflow.keras.preprocessing.image import ImageDataGenerator\n",
        "\n",
        "# Create ImageDataGenerator for training set\n",
        "train_datagen = ImageDataGenerator(\n",
        "    rescale=1./255,\n",
        "    validation_split=0.2  # Split 20% of the images for validation\n",
        ")\n",
        "\n",
        "# Load and prepare training data\n",
        "train_data = train_datagen.flow_from_directory(\n",
        "    train_dir,\n",
        "    target_size=(256,256),\n",
        "    batch_size=32,\n",
        "    class_mode='binary',  # 'binary' for binary classification (cats vs. dogs)\n",
        "    subset='training' , # Specify 'training' for the training set\n",
        "    classes=['non x-ray', 'x-ray']\n",
        ")\n",
        "\n",
        "# Create ImageDataGenerator for validation set\n",
        "validation_datagen = ImageDataGenerator(\n",
        "    rescale=1./255,\n",
        "    validation_split=0.2  # Note: Using the same validation split as in the training set\n",
        ")\n",
        "\n",
        "# Load and prepare validation data\n",
        "validation_data = validation_datagen.flow_from_directory(\n",
        "    train_dir,\n",
        "    target_size=(256,256),\n",
        "    batch_size=32,\n",
        "    class_mode='binary',\n",
        "    subset='validation',  # Specify 'validation' for the validation set\n",
        "    classes=['non x-ray', 'x-ray']\n",
        ")"
      ]
    },
    {
      "cell_type": "code",
      "execution_count": 28,
      "metadata": {
        "id": "wGp6oIfQWMFh"
      },
      "outputs": [],
      "source": [
        "from tensorflow import keras\n",
        "from keras import Sequential\n",
        "from keras.layers import Dense,Conv2D,MaxPooling2D,Flatten,BatchNormalization,UpSampling2D, Dropout"
      ]
    },
    {
      "cell_type": "code",
      "execution_count": 29,
      "metadata": {
        "id": "6liLEEzLWNB5"
      },
      "outputs": [],
      "source": [
        "# create CNN model\n",
        "\n",
        "model = Sequential()\n",
        "\n",
        "model.add(Conv2D(32,kernel_size=(3,3),padding='valid',activation='relu',input_shape=(256,256,3)))  # 32 filters\n",
        "model.add(MaxPooling2D(pool_size=(2,2),strides=2,padding='valid'))\n",
        "\n",
        "model.add(Conv2D(64,kernel_size=(3,3),padding='valid',activation='relu'))\n",
        "model.add(MaxPooling2D(pool_size=(2,2),strides=2,padding='valid'))\n",
        "\n",
        "model.add(Conv2D(128,kernel_size=(3,3),padding='valid',activation='relu'))\n",
        "model.add(MaxPooling2D(pool_size=(2,2),strides=2,padding='valid'))\n",
        "\n",
        "model.add(Flatten())\n",
        "\n",
        "model.add(Dense(128,activation='relu')) #feature reduction\n",
        "model.add(Dense(64,activation='relu'))\n",
        "model.add(Dense(1,activation='sigmoid'))  #output layer"
      ]
    },
    {
      "cell_type": "code",
      "execution_count": 30,
      "metadata": {
        "id": "SeBjyn0iWXgY"
      },
      "outputs": [],
      "source": [
        "from keras.optimizers import Adam\n",
        "model.compile(optimizer=Adam(learning_rate=0.001),loss='binary_crossentropy',metrics=['accuracy']) #binary_crossentropy - binary classification"
      ]
    },
    {
      "cell_type": "code",
      "execution_count": 31,
      "metadata": {
        "colab": {
          "base_uri": "https://localhost:8080/"
        },
        "id": "lGbY2VpIWbTt",
        "outputId": "f332d40a-c810-4a94-e035-54da0b146a48"
      },
      "outputs": [
        {
          "output_type": "stream",
          "name": "stdout",
          "text": [
            "Epoch 1/20\n",
            "30/30 [==============================] - 106s 4s/step - loss: 0.3517 - accuracy: 0.8588 - val_loss: 0.1354 - val_accuracy: 0.9237\n",
            "Epoch 2/20\n",
            "30/30 [==============================] - 102s 3s/step - loss: 0.0189 - accuracy: 0.9926 - val_loss: 0.0509 - val_accuracy: 0.9915\n",
            "Epoch 3/20\n",
            "30/30 [==============================] - 102s 3s/step - loss: 0.0018 - accuracy: 1.0000 - val_loss: 0.0794 - val_accuracy: 0.9831\n",
            "Epoch 4/20\n",
            "30/30 [==============================] - 102s 3s/step - loss: 6.0716e-04 - accuracy: 1.0000 - val_loss: 0.0827 - val_accuracy: 0.9873\n",
            "Epoch 5/20\n",
            "30/30 [==============================] - 101s 3s/step - loss: 0.0039 - accuracy: 0.9989 - val_loss: 0.0832 - val_accuracy: 0.9831\n",
            "Epoch 6/20\n",
            "30/30 [==============================] - 101s 3s/step - loss: 0.0045 - accuracy: 0.9979 - val_loss: 0.0869 - val_accuracy: 0.9746\n",
            "Epoch 7/20\n",
            "30/30 [==============================] - 102s 3s/step - loss: 0.0320 - accuracy: 0.9958 - val_loss: 0.0927 - val_accuracy: 0.9703\n",
            "Epoch 8/20\n",
            "30/30 [==============================] - 102s 3s/step - loss: 0.0205 - accuracy: 0.9958 - val_loss: 0.1182 - val_accuracy: 0.9703\n",
            "Epoch 9/20\n",
            "30/30 [==============================] - 104s 3s/step - loss: 0.0339 - accuracy: 0.9895 - val_loss: 0.0598 - val_accuracy: 0.9873\n",
            "Epoch 10/20\n",
            "30/30 [==============================] - 102s 3s/step - loss: 0.0053 - accuracy: 0.9979 - val_loss: 0.0565 - val_accuracy: 0.9873\n",
            "Epoch 11/20\n",
            "30/30 [==============================] - 101s 3s/step - loss: 3.5571e-04 - accuracy: 1.0000 - val_loss: 0.0566 - val_accuracy: 0.9915\n",
            "Epoch 12/20\n",
            "30/30 [==============================] - 102s 3s/step - loss: 5.6581e-05 - accuracy: 1.0000 - val_loss: 0.0455 - val_accuracy: 0.9915\n",
            "Epoch 13/20\n",
            "30/30 [==============================] - 101s 3s/step - loss: 2.7352e-05 - accuracy: 1.0000 - val_loss: 0.0449 - val_accuracy: 0.9915\n",
            "Epoch 14/20\n",
            "30/30 [==============================] - 101s 3s/step - loss: 1.9036e-05 - accuracy: 1.0000 - val_loss: 0.0438 - val_accuracy: 0.9915\n",
            "Epoch 15/20\n",
            "30/30 [==============================] - 101s 3s/step - loss: 1.4244e-05 - accuracy: 1.0000 - val_loss: 0.0430 - val_accuracy: 0.9915\n",
            "Epoch 16/20\n",
            "30/30 [==============================] - 101s 3s/step - loss: 1.2053e-05 - accuracy: 1.0000 - val_loss: 0.0431 - val_accuracy: 0.9915\n",
            "Epoch 17/20\n",
            "30/30 [==============================] - 101s 3s/step - loss: 9.6897e-06 - accuracy: 1.0000 - val_loss: 0.0463 - val_accuracy: 0.9915\n",
            "Epoch 18/20\n",
            "30/30 [==============================] - 101s 3s/step - loss: 8.9442e-06 - accuracy: 1.0000 - val_loss: 0.0439 - val_accuracy: 0.9915\n",
            "Epoch 19/20\n",
            "30/30 [==============================] - 102s 3s/step - loss: 6.1038e-06 - accuracy: 1.0000 - val_loss: 0.0451 - val_accuracy: 0.9915\n",
            "Epoch 20/20\n",
            "30/30 [==============================] - 101s 3s/step - loss: 5.4330e-06 - accuracy: 1.0000 - val_loss: 0.0458 - val_accuracy: 0.9915\n"
          ]
        }
      ],
      "source": [
        "history = model.fit(train_data, epochs=20, validation_data=validation_data)"
      ]
    },
    {
      "cell_type": "code",
      "execution_count": 32,
      "metadata": {
        "id": "g21dMlSOWKas",
        "colab": {
          "base_uri": "https://localhost:8080/",
          "height": 430
        },
        "outputId": "351e53bd-0b67-407e-dcb0-456aea7cdad1"
      },
      "outputs": [
        {
          "output_type": "display_data",
          "data": {
            "text/plain": [
              "<Figure size 640x480 with 1 Axes>"
            ],
            "image/png": "[encoded data removed]"
          },
          "metadata": {}
        }
      ],
      "source": [
        "import matplotlib.pyplot as plt\n",
        "\n",
        "plt.plot(history.history['accuracy'],color='red',label='train')\n",
        "plt.plot(history.history['val_accuracy'],color='blue',label='validation')\n",
        "plt.legend()\n",
        "plt.show()"
      ]
    },
    {
      "cell_type": "code",
      "execution_count": 33,
      "metadata": {
        "id": "FYZ0VJp4esXl",
        "colab": {
          "base_uri": "https://localhost:8080/",
          "height": 430
        },
        "outputId": "8b98af81-c916-49b7-e083-b9e29a696eb9"
      },
      "outputs": [
        {
          "output_type": "display_data",
          "data": {
            "text/plain": [
              "<Figure size 640x480 with 1 Axes>"
            ],
            "image/png": "[encoded data removed]"
          },
          "metadata": {}
        }
      ],
      "source": [
        "plt.plot(history.history['loss'],color='red',label='train')\n",
        "plt.plot(history.history['val_loss'],color='blue',label='validation')\n",
        "plt.legend()\n",
        "plt.show()"
      ]
    },
    {
      "cell_type": "code",
      "execution_count": 35,
      "metadata": {
        "id": "tQj_RyrZWBEt",
        "colab": {
          "base_uri": "https://localhost:8080/"
        },
        "outputId": "c97b06d8-6223-42cc-813f-5865b72d9f9d"
      },
      "outputs": [
        {
          "output_type": "stream",
          "name": "stdout",
          "text": [
            "Found 1115 images belonging to 2 classes.\n"
          ]
        }
      ],
      "source": [
        "test_datagen = ImageDataGenerator(rescale=1./255)\n",
        "test_data = test_datagen.flow_from_directory(\n",
        "    test_dir,\n",
        "    target_size=(256,256),\n",
        "    batch_size=32,\n",
        "    class_mode='binary',\n",
        "    classes=['non x-ray', 'x-ray']\n",
        ")"
      ]
    },
    {
      "cell_type": "code",
      "execution_count": 36,
      "metadata": {
        "id": "glicW8_5vTqd",
        "colab": {
          "base_uri": "https://localhost:8080/"
        },
        "outputId": "9a1a8bd4-4f10-403f-ec5a-9c6ee6e17242"
      },
      "outputs": [
        {
          "output_type": "stream",
          "name": "stdout",
          "text": [
            "35/35 [==============================] - 30s 859ms/step\n"
          ]
        }
      ],
      "source": [
        "#predict the test data\n",
        "predictions = model.predict(test_data)\n"
      ]
    },
    {
      "cell_type": "code",
      "execution_count": 37,
      "metadata": {
        "id": "oqqBXpuhyd6x",
        "colab": {
          "base_uri": "https://localhost:8080/"
        },
        "outputId": "2c74d4d7-da0f-48f6-c63c-578ecdc2da8c"
      },
      "outputs": [
        {
          "output_type": "stream",
          "name": "stdout",
          "text": [
            "Confusion Matrix:\n",
            "[[267 284]\n",
            " [282 282]]\n",
            "Classification Report:\n",
            "              precision    recall  f1-score   support\n",
            "\n",
            "           0       0.49      0.48      0.49       551\n",
            "           1       0.50      0.50      0.50       564\n",
            "\n",
            "    accuracy                           0.49      1115\n",
            "   macro avg       0.49      0.49      0.49      1115\n",
            "weighted avg       0.49      0.49      0.49      1115\n",
            "\n"
          ]
        }
      ],
      "source": [
        "from sklearn.metrics import confusion_matrix, classification_report\n",
        "\n",
        "# Assuming you have ground truth labels (true_labels) and predicted labels (predictions)\n",
        "true_labels = test_data.classes\n",
        "predicted_labels = (predictions > 0.5).astype(int)  # Adjust the threshold as needed\n",
        "\n",
        "# Calculate confusion matrix\n",
        "cm = confusion_matrix(true_labels, predicted_labels)\n",
        "\n",
        "# Print confusion matrix\n",
        "print(\"Confusion Matrix:\")\n",
        "print(cm)\n",
        "\n",
        "# Print classification report\n",
        "print(\"Classification Report:\")\n",
        "print(classification_report(true_labels, predicted_labels))"
      ]
    },
    {
      "cell_type": "markdown",
      "source": [
        "There is overfitting and hence applying Batchnormalisation and Dropout techniques to handle overfitting"
      ],
      "metadata": {
        "id": "_oQuD60L6XQO"
      }
    },
    {
      "cell_type": "code",
      "source": [
        "# create CNN model\n",
        "\n",
        "model = Sequential()\n",
        "\n",
        "model.add(Conv2D(32,kernel_size=(3,3),padding='valid',activation='relu',input_shape=(256,256,3)))  # 32 filters\n",
        "model.add(BatchNormalization())  # added to reduce overfitting\n",
        "model.add(MaxPooling2D(pool_size=(2,2),strides=2,padding='valid'))\n",
        "\n",
        "model.add(Conv2D(64,kernel_size=(3,3),padding='valid',activation='relu'))\n",
        "model.add(BatchNormalization())  # added to reduce overfitting\n",
        "model.add(MaxPooling2D(pool_size=(2,2),strides=2,padding='valid'))\n",
        "\n",
        "model.add(Conv2D(128,kernel_size=(3,3),padding='valid',activation='relu'))\n",
        "model.add(BatchNormalization())  # added to reduce overfitting\n",
        "model.add(MaxPooling2D(pool_size=(2,2),strides=2,padding='valid'))\n",
        "\n",
        "model.add(Flatten())\n",
        "\n",
        "model.add(Dense(128,activation='relu')) #feature reduction\n",
        "model.add(Dropout(0.1))  # added to reduce overfitting\n",
        "model.add(Dense(64,activation='relu'))\n",
        "model.add(Dropout(0.1))  # added to reduce overfitting\n",
        "model.add(Dense(1,activation='sigmoid'))  #output layer"
      ],
      "metadata": {
        "id": "TonEZUiC_fhE"
      },
      "execution_count": 38,
      "outputs": []
    },
    {
      "cell_type": "code",
      "source": [
        "from keras.optimizers import Adam\n",
        "model.compile(optimizer=Adam(learning_rate=0.001),loss='binary_crossentropy',metrics=['accuracy'])"
      ],
      "metadata": {
        "id": "NUYfF3cF6q6s"
      },
      "execution_count": 39,
      "outputs": []
    },
    {
      "cell_type": "code",
      "source": [
        "history = model.fit(train_data, epochs=20, validation_data=validation_data)"
      ],
      "metadata": {
        "id": "Ee3-ds2k6156",
        "outputId": "974a0f82-0bff-44b1-c1cd-7ff1023233f2",
        "colab": {
          "base_uri": "https://localhost:8080/"
        }
      },
      "execution_count": 40,
      "outputs": [
        {
          "output_type": "stream",
          "name": "stdout",
          "text": [
            "Epoch 1/20\n",
            "30/30 [==============================] - 152s 5s/step - loss: 0.7828 - accuracy: 0.9505 - val_loss: 8.4247 - val_accuracy: 0.5254\n",
            "Epoch 2/20\n",
            "30/30 [==============================] - 149s 5s/step - loss: 0.0846 - accuracy: 0.9916 - val_loss: 15.5166 - val_accuracy: 0.5212\n",
            "Epoch 3/20\n",
            "30/30 [==============================] - 150s 5s/step - loss: 0.1500 - accuracy: 0.9916 - val_loss: 25.9130 - val_accuracy: 0.5254\n",
            "Epoch 4/20\n",
            "30/30 [==============================] - 149s 5s/step - loss: 1.0056 - accuracy: 0.9800 - val_loss: 9.8877 - val_accuracy: 0.8220\n",
            "Epoch 5/20\n",
            "30/30 [==============================] - 149s 5s/step - loss: 0.6788 - accuracy: 0.9863 - val_loss: 10.6770 - val_accuracy: 0.8093\n",
            "Epoch 6/20\n",
            "30/30 [==============================] - 148s 5s/step - loss: 0.2202 - accuracy: 0.9905 - val_loss: 2.3785 - val_accuracy: 0.9322\n",
            "Epoch 7/20\n",
            "30/30 [==============================] - 149s 5s/step - loss: 0.1313 - accuracy: 0.9979 - val_loss: 3.3821 - val_accuracy: 0.9110\n",
            "Epoch 8/20\n",
            "30/30 [==============================] - 149s 5s/step - loss: 0.0343 - accuracy: 0.9958 - val_loss: 3.3002 - val_accuracy: 0.9322\n",
            "Epoch 9/20\n",
            "30/30 [==============================] - 149s 5s/step - loss: 0.0316 - accuracy: 0.9979 - val_loss: 8.4909 - val_accuracy: 0.8814\n",
            "Epoch 10/20\n",
            "30/30 [==============================] - 148s 5s/step - loss: 1.1004e-06 - accuracy: 1.0000 - val_loss: 8.5533 - val_accuracy: 0.8941\n",
            "Epoch 11/20\n",
            "30/30 [==============================] - 149s 5s/step - loss: 0.0082 - accuracy: 0.9989 - val_loss: 5.6901 - val_accuracy: 0.9237\n",
            "Epoch 12/20\n",
            "30/30 [==============================] - 148s 5s/step - loss: 0.0775 - accuracy: 0.9989 - val_loss: 3.5946 - val_accuracy: 0.9364\n",
            "Epoch 13/20\n",
            "30/30 [==============================] - 149s 5s/step - loss: 0.0040 - accuracy: 0.9989 - val_loss: 3.2280 - val_accuracy: 0.9576\n",
            "Epoch 14/20\n",
            "30/30 [==============================] - 148s 5s/step - loss: 0.0209 - accuracy: 0.9989 - val_loss: 1.9548 - val_accuracy: 0.9449\n",
            "Epoch 15/20\n",
            "30/30 [==============================] - 149s 5s/step - loss: 0.0285 - accuracy: 0.9968 - val_loss: 6.4877 - val_accuracy: 0.9492\n",
            "Epoch 16/20\n",
            "30/30 [==============================] - 149s 5s/step - loss: 0.0985 - accuracy: 0.9989 - val_loss: 4.6602 - val_accuracy: 0.9364\n",
            "Epoch 17/20\n",
            "30/30 [==============================] - 149s 5s/step - loss: 0.1930 - accuracy: 0.9947 - val_loss: 5.7576 - val_accuracy: 0.8051\n",
            "Epoch 18/20\n",
            "30/30 [==============================] - 149s 5s/step - loss: 3.4618e-16 - accuracy: 1.0000 - val_loss: 3.9505 - val_accuracy: 0.8686\n",
            "Epoch 19/20\n",
            "30/30 [==============================] - 149s 5s/step - loss: 0.0814 - accuracy: 0.9979 - val_loss: 9.4488 - val_accuracy: 0.9576\n",
            "Epoch 20/20\n",
            "30/30 [==============================] - 149s 5s/step - loss: 1.4322 - accuracy: 0.9842 - val_loss: 127.1906 - val_accuracy: 0.5085\n"
          ]
        }
      ]
    },
    {
      "cell_type": "code",
      "source": [
        "                                                                                                                                                                                                                                                                                                                                                                                                                                                                                                                                                                                                                                                                                                                                                                                                                                                                                                                                                                                                                                                                                                                                                                                                                                                                                                                                                                                                                                                                                                                                                                                          test_datagen = ImageDataGenerator(rescale=1./255)\n",
        "test_data = test_datagen.flow_from_directory(\n",
        "    test_dir,\n",
        "    target_size=(256,256),\n",
        "    batch_size=32,\n",
        "    class_mode='binary',\n",
        "    classes=['non x-ray', 'x-ray']\n",
        ")"
      ],
      "metadata": {
        "id": "t1TgDjL56-xG",
        "outputId": "c3c58ac3-6028-49d7-c112-e55dd6b1892f",
        "colab": {
          "base_uri": "https://localhost:8080/"
        }
      },
      "execution_count": 42,
      "outputs": [
        {
          "output_type": "stream",
          "name": "stdout",
          "text": [
            "Found 1115 images belonging to 2 classes.\n"
          ]
        }
      ]
    },
    {
      "cell_type": "code",
      "source": [
        "predictions = model.predict(test_data)"
      ],
      "metadata": {
        "id": "UbcwpddpOLoi",
        "outputId": "9247621d-d075-4764-8f44-495130d15c82",
        "colab": {
          "base_uri": "https://localhost:8080/"
        }
      },
      "execution_count": 43,
      "outputs": [
        {
          "output_type": "stream",
          "name": "stdout",
          "text": [
            "35/35 [==============================] - 45s 1s/step\n"
          ]
        }
      ]
    },
    {
      "cell_type": "code",
      "source": [
        "from sklearn.metrics import confusion_matrix, classification_report\n",
        "\n",
        "# Assuming you have ground truth labels (true_labels) and predicted labels (predictions)\n",
        "true_labels = test_data.classes\n",
        "predicted_labels = (predictions > 0.5).astype(int)  # Adjust the threshold as needed\n",
        "\n",
        "# Calculate confusion matrix\n",
        "cm = confusion_matrix(true_labels, predicted_labels)\n",
        "\n",
        "# Print confusion matrix\n",
        "print(\"Confusion Matrix:\")\n",
        "print(cm)\n",
        "\n",
        "# Print classification report\n",
        "print(\"Classification Report after applying techniques to handle overfitting:\")\n",
        "print(classification_report(true_labels, predicted_labels))"
      ],
      "metadata": {
        "id": "RuSx_sRm6_zz",
        "outputId": "018c2898-7584-4f88-cf05-f91028feebb9",
        "colab": {
          "base_uri": "https://localhost:8080/"
        }
      },
      "execution_count": 44,
      "outputs": [
        {
          "output_type": "stream",
          "name": "stdout",
          "text": [
            "Confusion Matrix:\n",
            "[[507  44]\n",
            " [522  42]]\n",
            "Classification Report after applying techniques to handle overfitting:\n",
            "              precision    recall  f1-score   support\n",
            "\n",
            "           0       0.49      0.92      0.64       551\n",
            "           1       0.49      0.07      0.13       564\n",
            "\n",
            "    accuracy                           0.49      1115\n",
            "   macro avg       0.49      0.50      0.39      1115\n",
            "weighted avg       0.49      0.49      0.38      1115\n",
            "\n"
          ]
        }
      ]
    },
    {
      "cell_type": "markdown",
      "source": [
        "Using Pre-trained model - Resnet"
      ],
      "metadata": {
        "id": "0qA7r-mFVzHw"
      }
    },
    {
      "cell_type": "code",
      "source": [
        "import tensorflow as tf\n",
        "from tensorflow import keras\n",
        "from keras import Sequential\n",
        "from keras.layers import Dense,Conv2D,MaxPooling2D,Flatten\n",
        "\n",
        "resnet_model = Sequential()    #ResNet50 is a pre-trained model\n",
        "pretrained_model = tf.keras.applications.ResNet50(include_top = False, #because i have my own image of a diff dimension\n",
        "                                                input_shape = (256,256,3),\n",
        "                                                pooling = 'max', classes = 2,\n",
        "                                                weights = 'imagenet')\n",
        "for layer in pretrained_model.layers:\n",
        "    layer.trainable = False  #all layers in the Resnet50 is not trainable; keep those weights; I am going to add my own i/p and other layers\n",
        "\n",
        "resnet_model.add(pretrained_model)\n",
        "resnet_model.add(Flatten())\n",
        "resnet_model.add(Dense(512, activation = 'relu'))\n",
        "resnet_model.add(Dense(1, activation = 'sigmoid'))"
      ],
      "metadata": {
        "id": "6wSg4m5TQ4QP",
        "colab": {
          "base_uri": "https://localhost:8080/"
        },
        "outputId": "d3703e3b-f1f1-4bfc-e9ae-59d8e89f3af1"
      },
      "execution_count": 45,
      "outputs": [
        {
          "output_type": "stream",
          "name": "stdout",
          "text": [
            "Downloading data from https://storage.googleapis.com/tensorflow/keras-applications/resnet/resnet50_weights_tf_dim_ordering_tf_kernels_notop.h5\n",
            "94765736/94765736 [==============================] - 0s 0us/step\n"
          ]
        }
      ]
    },
    {
      "cell_type": "code",
      "source": [
        "from keras.optimizers import Adam\n",
        "resnet_model.compile(optimizer=Adam(learning_rate=0.001),loss='binary_crossentropy',metrics=['accuracy'])"
      ],
      "metadata": {
        "id": "-chKK0QiSS_V"
      },
      "execution_count": 46,
      "outputs": []
    },
    {
      "cell_type": "code",
      "source": [
        "history = resnet_model.fit(train_data, epochs=20, validation_data=validation_data)"
      ],
      "metadata": {
        "id": "mlLccBTMSYjp",
        "outputId": "187e0863-db2b-4e1f-ce3c-cc24e44f3ed7",
        "colab": {
          "base_uri": "https://localhost:8080/"
        }
      },
      "execution_count": 47,
      "outputs": [
        {
          "output_type": "stream",
          "name": "stdout",
          "text": [
            "Epoch 1/20\n",
            "30/30 [==============================] - 286s 9s/step - loss: 1.7666 - accuracy: 0.5501 - val_loss: 1.2781 - val_accuracy: 0.5297\n",
            "Epoch 2/20\n",
            "30/30 [==============================] - 279s 9s/step - loss: 0.5979 - accuracy: 0.7134 - val_loss: 0.5081 - val_accuracy: 0.7119\n",
            "Epoch 3/20\n",
            "30/30 [==============================] - 277s 9s/step - loss: 0.2955 - accuracy: 0.8830 - val_loss: 0.5822 - val_accuracy: 0.7161\n",
            "Epoch 4/20\n",
            "30/30 [==============================] - 278s 9s/step - loss: 0.2623 - accuracy: 0.9031 - val_loss: 0.3889 - val_accuracy: 0.8559\n",
            "Epoch 5/20\n",
            "30/30 [==============================] - 277s 9s/step - loss: 0.2306 - accuracy: 0.9210 - val_loss: 0.4170 - val_accuracy: 0.8136\n",
            "Epoch 6/20\n",
            "30/30 [==============================] - 280s 9s/step - loss: 0.2094 - accuracy: 0.9378 - val_loss: 0.3040 - val_accuracy: 0.8686\n",
            "Epoch 7/20\n",
            "30/30 [==============================] - 276s 9s/step - loss: 0.1825 - accuracy: 0.9378 - val_loss: 0.3169 - val_accuracy: 0.8644\n",
            "Epoch 8/20\n",
            "30/30 [==============================] - 279s 9s/step - loss: 0.1868 - accuracy: 0.9294 - val_loss: 0.3066 - val_accuracy: 0.8771\n",
            "Epoch 9/20\n",
            "30/30 [==============================] - 275s 9s/step - loss: 0.1674 - accuracy: 0.9442 - val_loss: 0.2737 - val_accuracy: 0.8856\n",
            "Epoch 10/20\n",
            "30/30 [==============================] - 277s 9s/step - loss: 0.1552 - accuracy: 0.9484 - val_loss: 0.2929 - val_accuracy: 0.8814\n",
            "Epoch 11/20\n",
            "30/30 [==============================] - 274s 9s/step - loss: 0.1719 - accuracy: 0.9410 - val_loss: 0.2935 - val_accuracy: 0.8771\n",
            "Epoch 12/20\n",
            "30/30 [==============================] - 277s 9s/step - loss: 0.1201 - accuracy: 0.9557 - val_loss: 0.2569 - val_accuracy: 0.8983\n",
            "Epoch 13/20\n",
            "30/30 [==============================] - 276s 9s/step - loss: 0.1227 - accuracy: 0.9621 - val_loss: 0.2610 - val_accuracy: 0.8771\n",
            "Epoch 14/20\n",
            "30/30 [==============================] - 274s 9s/step - loss: 0.1006 - accuracy: 0.9642 - val_loss: 0.2692 - val_accuracy: 0.8771\n",
            "Epoch 15/20\n",
            "30/30 [==============================] - 276s 9s/step - loss: 0.1318 - accuracy: 0.9473 - val_loss: 0.2503 - val_accuracy: 0.8941\n",
            "Epoch 16/20\n",
            "30/30 [==============================] - 275s 9s/step - loss: 0.1208 - accuracy: 0.9557 - val_loss: 0.2510 - val_accuracy: 0.9025\n",
            "Epoch 17/20\n",
            "30/30 [==============================] - 275s 9s/step - loss: 0.1040 - accuracy: 0.9610 - val_loss: 0.3842 - val_accuracy: 0.8347\n",
            "Epoch 18/20\n",
            "30/30 [==============================] - 276s 9s/step - loss: 0.1262 - accuracy: 0.9484 - val_loss: 0.3007 - val_accuracy: 0.8856\n",
            "Epoch 19/20\n",
            "30/30 [==============================] - 275s 9s/step - loss: 0.1033 - accuracy: 0.9621 - val_loss: 0.2470 - val_accuracy: 0.9068\n",
            "Epoch 20/20\n",
            "30/30 [==============================] - 274s 9s/step - loss: 0.0857 - accuracy: 0.9737 - val_loss: 0.2705 - val_accuracy: 0.8898\n"
          ]
        }
      ]
    },
    {
      "cell_type": "code",
      "source": [
        "predictions = resnet_model.predict(test_data)"
      ],
      "metadata": {
        "id": "vGQnG2mCVD7R",
        "outputId": "1ab2324b-ad75-4192-bba1-29d84ce3adec",
        "colab": {
          "base_uri": "https://localhost:8080/"
        }
      },
      "execution_count": 48,
      "outputs": [
        {
          "output_type": "stream",
          "name": "stdout",
          "text": [
            "35/35 [==============================] - 260s 7s/step\n"
          ]
        }
      ]
    },
    {
      "cell_type": "code",
      "source": [
        "from sklearn.metrics import confusion_matrix, classification_report\n",
        "\n",
        "# Assuming you have ground truth labels (true_labels) and predicted labels (predictions)\n",
        "true_labels = test_data.classes\n",
        "predicted_labels = (predictions > 0.5).astype(int)  # Adjust the threshold as needed\n",
        "\n",
        "# Calculate confusion matrix\n",
        "cm = confusion_matrix(true_labels, predicted_labels)\n",
        "\n",
        "# Print confusion matrix\n",
        "print(\"Confusion Matrix:\")\n",
        "print(cm)\n",
        "\n",
        "# Print classification report\n",
        "print(\"Classification Report after applying techniques to handle overfitting:\")\n",
        "print(classification_report(true_labels, predicted_labels))"
      ],
      "metadata": {
        "id": "SGJyo_ERXM0u",
        "outputId": "d559c9e3-2b55-4232-f750-745722d301be",
        "colab": {
          "base_uri": "https://localhost:8080/"
        }
      },
      "execution_count": 49,
      "outputs": [
        {
          "output_type": "stream",
          "name": "stdout",
          "text": [
            "Confusion Matrix:\n",
            "[[249 302]\n",
            " [285 279]]\n",
            "Classification Report after applying techniques to handle overfitting:\n",
            "              precision    recall  f1-score   support\n",
            "\n",
            "           0       0.47      0.45      0.46       551\n",
            "           1       0.48      0.49      0.49       564\n",
            "\n",
            "    accuracy                           0.47      1115\n",
            "   macro avg       0.47      0.47      0.47      1115\n",
            "weighted avg       0.47      0.47      0.47      1115\n",
            "\n"
          ]
        }
      ]
    }
  ],
  "metadata": {
    "accelerator": "TPU",
    "colab": {
      "provenance": [],
      "gpuType": "V28",
      "include_colab_link": true
    },
    "kernelspec": {
      "display_name": "Python 3",
      "name": "python3"
    },
    "language_info": {
      "name": "python"
    }
  },
  "nbformat": 4,
  "nbformat_minor": 0
}